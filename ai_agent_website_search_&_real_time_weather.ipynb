{
  "nbformat": 4,
  "nbformat_minor": 0,
  "metadata": {
    "colab": {
      "provenance": [],
      "authorship_tag": "ABX9TyNotu1BNuF/Hl2dO3k7XqSm",
      "include_colab_link": true
    },
    "kernelspec": {
      "name": "python3",
      "display_name": "Python 3"
    },
    "language_info": {
      "name": "python"
    }
  },
  "cells": [
    {
      "cell_type": "markdown",
      "metadata": {
        "id": "view-in-github",
        "colab_type": "text"
      },
      "source": [
        "<a href=\"https://colab.research.google.com/github/Nishchalzz/AI-Agent-to-search-on-website-fetch-real-time-weather-data/blob/main/ai_agent_website_search_%26_real_time_weather.ipynb\" target=\"_parent\"><img src=\"https://colab.research.google.com/assets/colab-badge.svg\" alt=\"Open In Colab\"/></a>"
      ]
    },
    {
      "cell_type": "code",
      "execution_count": 6,
      "metadata": {
        "colab": {
          "base_uri": "https://localhost:8080/"
        },
        "id": "ni9Zo-9rbHhh",
        "outputId": "fe985724-3276-4554-ecf0-f72e4fd69951"
      },
      "outputs": [
        {
          "output_type": "stream",
          "name": "stdout",
          "text": [
            "\u001b[2K   \u001b[90m━━━━━━━━━━━━━━━━━━━━━━━━━━━━━━━━━━━━━━━━\u001b[0m \u001b[32m3.3/3.3 MB\u001b[0m \u001b[31m25.6 MB/s\u001b[0m eta \u001b[36m0:00:00\u001b[0m\n",
            "\u001b[?25h"
          ]
        }
      ],
      "source": [
        "!pip install -q langchain-google-genai langchain-community langchain-core requests duckduckgo-search"
      ]
    },
    {
      "cell_type": "code",
      "source": [
        "from langchain_google_genai import ChatGoogleGenerativeAI\n",
        "import requests\n",
        "from langchain.tools import tool"
      ],
      "metadata": {
        "id": "CGDujxxzbRNS"
      },
      "execution_count": 7,
      "outputs": []
    },
    {
      "cell_type": "code",
      "source": [
        "from langchain_community.tools import DuckDuckGoSearchRun\n",
        "\n",
        "search = DuckDuckGoSearchRun()\n"
      ],
      "metadata": {
        "id": "76xY7L09bmm6"
      },
      "execution_count": 18,
      "outputs": []
    },
    {
      "cell_type": "code",
      "source": [
        "@tool\n",
        "def get_current_weather(city:str)->str:\n",
        "  \"\"\"\n",
        "  This function fetches the current weather data for a given city\n",
        "  \"\"\"\n",
        "  url = f'https://api.weatherstack.com/current?access_key={api_key}&query={city}'\n",
        "\n",
        "  response = requests.get(url)\n",
        "\n",
        "  return response.json()"
      ],
      "metadata": {
        "id": "3665vHoWq3AJ"
      },
      "execution_count": 19,
      "outputs": []
    },
    {
      "cell_type": "code",
      "source": [
        "llm = ChatGoogleGenerativeAI(\n",
        "    model='gemini-1.5-flash',\n",
        "    google_api_key=\"{api_key}\"\n",
        ")"
      ],
      "metadata": {
        "id": "PEZ3ZI9rb0i_"
      },
      "execution_count": 9,
      "outputs": []
    },
    {
      "cell_type": "code",
      "source": [
        "from langchain.agents import create_react_agent, AgentExecutor\n",
        "from langchain import hub"
      ],
      "metadata": {
        "id": "9p9g1V1rcfW0"
      },
      "execution_count": 12,
      "outputs": []
    },
    {
      "cell_type": "code",
      "source": [
        "prompt = hub.pull(\"hwchase17/react\")"
      ],
      "metadata": {
        "colab": {
          "base_uri": "https://localhost:8080/"
        },
        "id": "9K2uk8wvchsM",
        "outputId": "7a759485-84a9-4ea2-d397-7d4d63f382b6"
      },
      "execution_count": 13,
      "outputs": [
        {
          "output_type": "stream",
          "name": "stderr",
          "text": [
            "/usr/local/lib/python3.11/dist-packages/langsmith/client.py:272: LangSmithMissingAPIKeyWarning: API key must be provided when using hosted LangSmith API\n",
            "  warnings.warn(\n"
          ]
        }
      ]
    },
    {
      "cell_type": "code",
      "source": [
        "agent = create_react_agent(\n",
        "    llm = llm,\n",
        "    tools = [search, get_current_weather],\n",
        "    prompt = prompt\n",
        ")"
      ],
      "metadata": {
        "id": "NDacKkySc-Ig"
      },
      "execution_count": 27,
      "outputs": []
    },
    {
      "cell_type": "code",
      "source": [
        "agent_executor = AgentExecutor(\n",
        "    agent = agent,\n",
        "    tools = [search, get_current_weather],\n",
        "    verbose=True\n",
        ")"
      ],
      "metadata": {
        "id": "Lbta3MtfdIyI"
      },
      "execution_count": 28,
      "outputs": []
    },
    {
      "cell_type": "code",
      "source": [
        "response = agent_executor.invoke({\"input\":\"Find the capital of karnataka, then find it's current weather condition \"})"
      ],
      "metadata": {
        "colab": {
          "base_uri": "https://localhost:8080/"
        },
        "id": "XNpaY427dYQ4",
        "outputId": "0a918a9c-f33d-49e9-d8e9-9119fef0ccb2"
      },
      "execution_count": 30,
      "outputs": [
        {
          "output_type": "stream",
          "name": "stdout",
          "text": [
            "\n",
            "\n",
            "\u001b[1m> Entering new AgentExecutor chain...\u001b[0m\n",
            "\u001b[32;1m\u001b[1;3mThought: I need to first find the capital of Karnataka.  Then I can use that information to get the current weather.\n",
            "Action: duckduckgo_search\n",
            "Action Input: capital of karnataka\u001b[0m"
          ]
        },
        {
          "output_type": "stream",
          "name": "stderr",
          "text": [
            "/usr/local/lib/python3.11/dist-packages/langchain_community/utilities/duckduckgo_search.py:63: RuntimeWarning: This package (`duckduckgo_search`) has been renamed to `ddgs`! Use `pip install ddgs` instead.\n",
            "  with DDGS() as ddgs:\n"
          ]
        },
        {
          "output_type": "stream",
          "name": "stdout",
          "text": [
            "\u001b[36;1m\u001b[1;3m2 days ago · The capital is Bengaluru (Bangalore), near the southeastern border. Before the independence of India in 1947, Mysore was a prosperous and progressive but landlocked … Jul 23, 2025 · States and Capitals of India In India, there are a total of 28 States and 8 Union Territories. Each state in India is unique and has a very rich and diverse culture, language, … Aug 2, 2025 · Bangalore, officially known as Bengaluru, is the Capital of the Indian State of Karnataka . It has a population of over ten million, making it a megacity and the Third populous … Apr 11, 2025 · Bangalore, officially called Bengaluru, is the capital of Karnataka. It is the second fastest growing metropolis of India and also the fourth highest GDP contributor after cities like … Mar 7, 2025 · Bengaluru, also known as Bangalore, is the capital city of Karnataka and one of India’s most dynamic metropolitan hubs. Renowned as the “Silicon Valley of India”, it is a …\u001b[0m\u001b[32;1m\u001b[1;3mThought: I now know that the capital of Karnataka is Bengaluru. I can now proceed to find the current weather there.\n",
            "Action: get_current_weather\n",
            "Action Input: Bengaluru\u001b[0m\u001b[33;1m\u001b[1;3m{'request': {'type': 'City', 'query': 'Bengaluru, India', 'language': 'en', 'unit': 'm'}, 'location': {'name': 'Bengaluru', 'country': 'India', 'region': 'Karnataka', 'lat': '12.983', 'lon': '77.583', 'timezone_id': 'Asia/Kolkata', 'localtime': '2025-08-09 08:13', 'localtime_epoch': 1754727180, 'utc_offset': '5.50'}, 'current': {'observation_time': '02:43 AM', 'temperature': 23, 'weather_code': 116, 'weather_icons': ['https://cdn.worldweatheronline.com/images/wsymbols01_png_64/wsymbol_0002_sunny_intervals.png'], 'weather_descriptions': ['Partly cloudy'], 'astro': {'sunrise': '06:07 AM', 'sunset': '06:43 PM', 'moonrise': '06:57 PM', 'moonset': '05:53 AM', 'moon_phase': 'Full Moon', 'moon_illumination': 100}, 'air_quality': {'co': '453.25', 'no2': '34.225', 'o3': '32', 'so2': '17.575', 'pm2_5': '25.345', 'pm10': '28.49', 'us-epa-index': '2', 'gb-defra-index': '2'}, 'wind_speed': 4, 'wind_degree': 219, 'wind_dir': 'SW', 'pressure': 1016, 'precip': 0.2, 'humidity': 89, 'cloudcover': 75, 'feelslike': 25, 'uv_index': 1, 'visibility': 6, 'is_day': 'yes'}}\u001b[0m\u001b[32;1m\u001b[1;3mThought: I now know the current weather in Bengaluru.\n",
            "Final Answer: The capital of Karnataka is Bengaluru.  The current weather in Bengaluru is partly cloudy with a temperature of 23 degrees Celsius and a feels like temperature of 25 degrees Celsius.  The wind is blowing from the Southwest at 4 km/h.\n",
            "\u001b[0m\n",
            "\n",
            "\u001b[1m> Finished chain.\u001b[0m\n"
          ]
        }
      ]
    },
    {
      "cell_type": "code",
      "source": [
        "print(response['output'])"
      ],
      "metadata": {
        "colab": {
          "base_uri": "https://localhost:8080/"
        },
        "id": "OjcYacpudsJw",
        "outputId": "e07e8b36-c506-42b5-dca8-e910a2797278"
      },
      "execution_count": 32,
      "outputs": [
        {
          "output_type": "stream",
          "name": "stdout",
          "text": [
            "The capital of Karnataka is Bengaluru.  The current weather in Bengaluru is partly cloudy with a temperature of 23 degrees Celsius and a feels like temperature of 25 degrees Celsius.  The wind is blowing from the Southwest at 4 km/h.\n"
          ]
        }
      ]
    },
    {
      "cell_type": "code",
      "source": [],
      "metadata": {
        "id": "mqWa1PhJdwIc"
      },
      "execution_count": null,
      "outputs": []
    }
  ]
}